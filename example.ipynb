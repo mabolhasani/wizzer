

{
 "cells": [
  {
   "cell_type": "markdown",
   "metadata": {},
   "source": [
    "### step by step guide\n",
    "\n",
    "1 - import _wizzer_ package."
   ]
  },
  {
   "cell_type": "code",
   "execution_count": 3,
   "metadata": {},
   "outputs": [],
   "source": [
    "import wizzer"
   ]
  },
  {
   "cell_type": "markdown",
   "metadata": {},
   "source": [
    "2 - have your questions (configuration parameters) ready. accepted formats are arrays, dictionaries or a single string.\n",
    "<br/> 2.1 - Here we have an array forexample:"
   ]
  },
  {
   "cell_type": "code",
   "execution_count": 11,
   "metadata": {},
   "outputs": [],
   "source": [
    "q1 = [\n",
    "        'driver',\n",
    "        'hostname',\n",
    "        'username',\n",
    "        'password',\n",
    "        'port',\n",
    "]"
   ]
  },
  {
   "cell_type": "markdown",
   "metadata": {},
   "source": [
    "2.1.1 - Now you can ask above attributes from the user. This will return a new dictinary with all answers filled-in as corresponding values."
   ]
  },
  {
   "cell_type": "code",
   "execution_count": 13,
   "metadata": {},
   "outputs": [
    {
     "name": "stdout",
     "output_type": "stream",
     "text": [
      "What's the driver ?  iosxr\n",
      "What's the hostname ?  ios-xe-mgmt.cisco.com\n",
      "What's the username ?  developer\n",
      "What's the password ?  C1sco12345\n",
      "What's the port ?  8181\n"
     ]
    }
   ],
   "source": [
    "q = wizzer.ask(q1)"
   ]
  },
  {
   "cell_type": "markdown",
   "metadata": {},
   "source": [
    "2.1.2 - You can review the configurations by running:"
   ]
  },
  {
   "cell_type": "code",
   "execution_count": 16,
   "metadata": {},
   "outputs": [
    {
     "name": "stdout",
     "output_type": "stream",
     "text": [
      "driver :  iosxr\n",
      "hostname :  ios-xe-mgmt.cisco.com\n",
      "username :  developer\n",
      "password :  C1sco12345\n",
      "port :  8181\n"
     ]
    }
   ],
   "source": [
    "wizzer.review(q)"
   ]
  },
  {
   "cell_type": "markdown",
   "metadata": {},
   "source": [
    "2.2 - Here we have a dictionary forexample:"
   ]
  },
  {
   "cell_type": "code",
   "execution_count": 17,
   "metadata": {},
   "outputs": [],
   "source": [
    "q2 = {\n",
    "        'driver': '',\n",
    "        'hostname': '',\n",
    "        'username': '',\n",
    "        'password': '',\n",
    "        'port': '',\n",
    "}"
   ]
  },
  {
   "cell_type": "markdown",
   "metadata": {},
   "source": [
    "2.2.1 - Now you can ask above attributes from the user. This will return a new dictinary with all answers filled-in as corresponding values."
   ]
  },
  {
   "cell_type": "code",
   "execution_count": null,
   "metadata": {},
   "outputs": [
    {
     "name": "stdout",
     "output_type": "stream",
     "text": [
      "What's the driver ?  iosxr\n",
      "What's the hostname ?  ios-xe-mgmt.cisco.com\n",
      "What's the username ?  developer\n"
     ]
    }
   ],
   "source": [
    "q = wizzer.ask(q2)"
   ]
  },
  {
   "cell_type": "code",
   "execution_count": null,
   "metadata": {},
   "outputs": [],
   "source": []
  }
 ],
 "metadata": {
  "kernelspec": {
   "display_name": "Python 3",
   "language": "python",
   "name": "python3"
  },
  "language_info": {
   "codemirror_mode": {
    "name": "ipython",
    "version": 3
   },
   "file_extension": ".py",
   "mimetype": "text/x-python",
   "name": "python",
   "nbconvert_exporter": "python",
   "pygments_lexer": "ipython3",
   "version": "3.7.6"
  }
 },
 "nbformat": 4,
 "nbformat_minor": 4
}
