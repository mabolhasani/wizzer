{
 "cells": [
  {
   "cell_type": "markdown",
   "metadata": {},
   "source": [
    "![wizzer logo](https://raw.githubusercontent.com/seekasra/wizzer/main/cover.png)\n",
    "[<img style=\"float: left; margin: 10px 10px 0px 0px\" src=\"https://img.shields.io/github/last-commit/seekasra/wizzer.svg\">](https://github.com/seekasra/wizzer/commits/master) [<img style=\"float: left; margin: 10px 10px 0px 0px\" src=\"https://img.shields.io/github/license/seekasra/wizzer.svg\">](https://github.com/seekasra/wizzer/blob/master/LICENSE)\n",
    "<br/>\n",
    "# wizzer\n",
    "#### [What's wizzer?](#whats-wizzer)\n",
    "#### [How to use?](#how-to-use)\n",
    "#### [Credits](#credits)\n",
    "---\n",
    "### What's wizzer?\n",
    "wizzer is a Python module to help programmers initialise their domain specific\n",
    "variable(s)/configuration(s) using a wizard-like question answer chat scenario.\n",
    "The need for this module began to develope when there was such need for\n",
    "Intent-Based Networking (IBN). Where the user would express their intention and\n",
    "expect the system to translate and trigger setup automatically.\n",
    "\n",
    "### How to use?\n",
    "1. import _wizzer_ package."
   ]
  },
  {
   "cell_type": "code",
   "execution_count": 1,
   "metadata": {},
   "outputs": [],
   "source": [
    "import wizzer"
   ]
  },
  {
   "cell_type": "markdown",
   "metadata": {},
   "source": [
    "2. have your questions (configuration parameters) ready. accepted formats are arrays, dictionaries or a single string.\n",
    "\n",
    "    - Here we have an array forexample:"
   ]
  },
  {
   "cell_type": "code",
   "execution_count": 2,
   "metadata": {},
   "outputs": [],
   "source": [
    "q1 = [\n",
    "        'driver',\n",
    "        'hostname',\n",
    "        'username',\n",
    "        'password',\n",
    "        'port',\n",
    "]"
   ]
  },
  {
   "cell_type": "markdown",
   "metadata": {},
   "source": [
    "   - Now you can ask above attributes from the user. This will return a new dictinary with all answers filled-in as corresponding values."
   ]
  },
  {
   "cell_type": "code",
   "execution_count": 3,
   "metadata": {},
   "outputs": [
    {
     "name": "stdout",
     "output_type": "stream",
     "text": [
      "What's the driver ?  iosxr\n",
      "What's the hostname ?  ios-xe-mgmt.cisco.com\n",
      "What's the username ?  developer\n",
      "What's the password ?  C1sco12345\n",
      "What's the port ?  8181\n"
     ]
    }
   ],
   "source": [
    "q = wizzer.ask(q1)"
   ]
  },
  {
   "cell_type": "markdown",
   "metadata": {},
   "source": [
    " - You can review the configurations by running:"
   ]
  },
  {
   "cell_type": "code",
   "execution_count": 4,
   "metadata": {},
   "outputs": [
    {
     "name": "stdout",
     "output_type": "stream",
     "text": [
      "driver :  iosxr\n",
      "hostname :  ios-xe-mgmt.cisco.com\n",
      "username :  developer\n",
      "password :  C1sco12345\n",
      "port :  8181\n"
     ]
    }
   ],
   "source": [
    "wizzer.review(q)"
   ]
  },
  {
   "cell_type": "markdown",
   "metadata": {},
   "source": [
    "3. Here we have a dictionary forexample:"
   ]
  },
  {
   "cell_type": "code",
   "execution_count": 5,
   "metadata": {},
   "outputs": [],
   "source": [
    "q2 = {\n",
    "        'driver': '',\n",
    "        'hostname': '',\n",
    "        'username': '',\n",
    "        'password': '',\n",
    "        'port': '',\n",
    "}"
   ]
  },
  {
   "cell_type": "markdown",
   "metadata": {},
   "source": [
    "- Now you can ask above attributes from the user. This will return a new dictinary with all answers filled-in as corresponding values."
   ]
  },
  {
   "cell_type": "code",
   "execution_count": 6,
   "metadata": {},
   "outputs": [
    {
     "name": "stdout",
     "output_type": "stream",
     "text": [
      "What's the driver ?  iosxr\n",
      "What's the hostname ?  ios-xe-mgmt.cisco.com\n",
      "What's the username ?  developer\n",
      "What's the password ?  C1sco12345\n",
      "What's the port ?  8181\n"
     ]
    }
   ],
   "source": [
    "q = wizzer.ask(q2)"
   ]
  },
  {
   "cell_type": "markdown",
   "metadata": {},
   "source": [
    "- You can review the configurations by running:"
   ]
  },
  {
   "cell_type": "code",
   "execution_count": 7,
   "metadata": {},
   "outputs": [
    {
     "name": "stdout",
     "output_type": "stream",
     "text": [
      "driver :  iosxr\n",
      "hostname :  ios-xe-mgmt.cisco.com\n",
      "username :  developer\n",
      "password :  C1sco12345\n",
      "port :  8181\n"
     ]
    }
   ],
   "source": [
    "wizzer.review(q2)"
   ]
  },
  {
   "cell_type": "markdown",
   "metadata": {},
   "source": [
    "---\n",
    "### credits\n",
    "Icon in the wizzer logo by [Anatoly Dudko](https://thenounproject.com/tolyachudes/)"
   ]
  },
  {
   "cell_type": "code",
   "execution_count": null,
   "metadata": {},
   "outputs": [],
   "source": []
  }
 ],
 "metadata": {
  "kernelspec": {
   "display_name": "Python 3",
   "language": "python",
   "name": "python3"
  },
  "language_info": {
   "codemirror_mode": {
    "name": "ipython",
    "version": 3
   },
   "file_extension": ".py",
   "mimetype": "text/x-python",
   "name": "python",
   "nbconvert_exporter": "python",
   "pygments_lexer": "ipython3",
   "version": "3.7.6"
  }
 },
 "nbformat": 4,
 "nbformat_minor": 4
}
